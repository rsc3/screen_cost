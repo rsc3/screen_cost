{
 "cells": [
  {
   "cell_type": "code",
   "execution_count": 10,
   "metadata": {
    "collapsed": true
   },
   "outputs": [],
   "source": [
    "# Imports\n",
    "import pprint\n",
    "from collections import OrderedDict\n",
    "import datetime\n",
    "import numpy as np\n",
    "import matplotlib\n",
    "import matplotlib.pyplot as plt\n",
    "import pandas as pd\n",
    "import csv\n",
    "import os"
   ]
  },
  {
   "cell_type": "code",
   "execution_count": 11,
   "metadata": {
    "collapsed": true
   },
   "outputs": [],
   "source": [
    "\n",
    "# # Creating Output Files to store data\n",
    "\n",
    "plate_filling = pd.DataFrame(data=None,columns=['ts','name','plates','media','tips','antibiotic','antibio_vol','antibio_conc','fill_time'])\n",
    "colony_picking = pd.DataFrame(data=None,columns=['ts','name','plates','lids','stickers','toothpicks','dishes','pick_time'])\n",
    "spread_plating = pd.DataFrame(data=None,columns=['ts','name','dishes','media','antibiotic','antibio_vol','antibio_conc','arabinose_vol','arabinose_conc','chloram_vol','chloram_conc','spread_time'])\n",
    "plate_replication = pd.DataFrame(data=None,columns=['ts','name','tips','plates','lids','stickers','plate_type','rep_time'])\n",
    "screening = pd.DataFrame(data=None,columns=['ts','name','target','target_vol','target_conc','plates','setup_time','read_time'])\n",
    "\n",
    "plate_filling.to_csv('plate_filling.csv')\n",
    "colony_picking.to_csv('colony_picking.csv')\n",
    "spread_plating.to_csv('spread_plating.csv')\n",
    "plate_replication.to_csv('plate_replication.csv')\n",
    "screening.to_csv('screeing.csv')"
   ]
  },
  {
   "cell_type": "code",
   "execution_count": 12,
   "metadata": {
    "collapsed": true
   },
   "outputs": [],
   "source": [
    "# Defining Global Variables\n",
    "\n",
    "antibiotics = OrderedDict([(\"1\", \"Spectinomycin\"), ('2', 'Chloramphenicol'), ('3', 'Kanamycin'), ('4','Tetracycline')])\n",
    "plate_types = OrderedDict([('1', 'Clear'), ('2', 'Black')])\n",
    "screening_targets = OrderedDict([('1', 'Lignin'), ('2', 'Lavender Oil'), ('3', 'Caffeine'), ('4', 'Isoprene'), ('5', 'Isoprenol'), \n",
    "                                 ('6', 'Limonene'), ('7', 'Vanilin'), ('8', 'P-coumaric Acid'), ('9', 'Vanilic Acid'), ('10', 'Camphor'), \n",
    "                                 ('11', 'Menthol'), ('12', 'Dipentene')])\n",
    "staff = OrderedDict([('1',\"Aneesha\"),('2','Cameron'),('3','Giles'),('4','Nina'),('5','Will')])\n"
   ]
  },
  {
   "cell_type": "code",
   "execution_count": 13,
   "metadata": {
    "collapsed": true
   },
   "outputs": [],
   "source": [
    "# TAKING USER INPUTS FOR FLOATS AND INTS\n",
    "def inp(question):\n",
    "    dummy = False\n",
    "    while dummy == False:\n",
    "        try:\n",
    "            user_input = float(input(question))\n",
    "            dummy = True\n",
    "        except: \n",
    "            print(\"You entered a bad input. Let's try again.\")\n",
    "    print('/n')\n",
    "    return(user_input)"
   ]
  },
  {
   "cell_type": "code",
   "execution_count": 14,
   "metadata": {
    "collapsed": true
   },
   "outputs": [],
   "source": [
    "# TAKING USER INPUTS FOR STRINGS\n",
    "def inp_str(question):\n",
    "    dummy = False\n",
    "    while dummy == False:\n",
    "        try:\n",
    "            user_input = str(input(question))\n",
    "            dummy = True\n",
    "        except: \n",
    "            print(\"You entered a bad input. Let's try again.\")\n",
    "    print('/n')\n",
    "    return(user_input)  "
   ]
  },
  {
   "cell_type": "code",
   "execution_count": 15,
   "metadata": {
    "collapsed": true
   },
   "outputs": [],
   "source": [
    "def dict_select(dict,question,scold):\n",
    "    for vals in dict:\n",
    "        print(vals,dict[vals])\n",
    "    dummy = False \n",
    "    while dummy == False:\n",
    "        dict_key = inp_str(question)\n",
    "        try:\n",
    "            val = dict[dict_key]\n",
    "            dummy = True\n",
    "        except:\n",
    "            print(scold)\n",
    "            dummy = False\n",
    "    print('/n')\n",
    "    return(val)"
   ]
  },
  {
   "cell_type": "code",
   "execution_count": 16,
   "metadata": {
    "collapsed": false
   },
   "outputs": [],
   "source": [
    "# import numpy as np\n",
    "# import matplotlib\n",
    "# import matplotlib.pyplot as plt\n",
    "# import pandas as pd\n",
    "# import csv\n",
    "\n",
    "# # Creating Output Files to store data\n",
    "# index = range(0,0)\n",
    "# plate_filling = pd.DataFrame(data=None,columns=['ts','name','plates','media','tips','antibiotic','antibio_vol','antibio_conc','fill_time'],index=index)\n",
    "# colony_picking = pd.DataFrame(data=None,columns=['ts','name','plates','lids','stickers','toothpicks','dishes','pick_time'],index=index)\n",
    "# spread_plating = pd.DataFrame(data=None,columns=['ts','name','dishes','media','antibiotic','antibio_vol','antibio_conc','arabinose_vol','arabinose_conc','chloram_vol','chloram_conc','spread_time'],index=index)\n",
    "# plate_replication = pd.DataFrame(data=None,columns=['ts','name','tips','plates','lids','stickers','plate_type','rep_time'],index=index)\n",
    "# screening = pd.DataFrame(data=None,columns=['ts','name','target','target_vol','target_conc','plates','setup_time','read_time'],index=index)\n",
    "\n",
    "# plate_filling.to_csv('plate_filling1.csv')\n",
    "# colony_picking.to_csv('colony_picking1.csv')\n",
    "# spread_plating.to_csv('spread_plating1.csv')\n",
    "# plate_replication.to_csv('plate_replication1.csv')\n",
    "# screening.to_csv('screeing1.csv')\n",
    "\n",
    "\n",
    "# pf_file = pd.read_csv('spread_plating1.csv')\n",
    "\n",
    "# pf_file.head()\n",
    "\n",
    "# # frames = [results,ps_results_2]\n",
    "# # results = pd.concat(frames)    \n",
    "# ps_results = pd.DataFrame([[1.4,\"Giles\",3,3,7,4,5,4,5,5,5,4]],columns=['ts','name','dishes','media','antibiotic','antibio_vol','antibio_conc','arabinose_vol','arabinose_conc','chloram_vol','chloram_conc','spread_time'],index=[0,1])\n",
    "# spread_plating.append(ps_results,ignore_index=True)\n",
    "# spread_plating.head()\n",
    "# ps_results_2 = pd.DataFrame([[1.4,\"Giles\",3,3,7,4,5,4,5,5,5,4]],columns=['ts','name','dishes','media','antibiotic','antibio_vol','antibio_conc','arabinose_vol','arabinose_conc','chloram_vol','chloram_conc','spread_time'],index=[0,1])\n",
    "\n",
    "\n",
    "# new_reults_2 = pf_file.append(ps_results_2,ignore_index=True)\n",
    "\n",
    "# new_reults_2.to_csv('spread_plating1.csv')\n",
    "\n",
    "# spread_plating1.csv\n",
    "\n",
    "# # writer = pd.ExcelWriter('output.xlsx')\n",
    "# # data_frame.to_excel(writer,'Sheet1')\n",
    "# # writer.save()"
   ]
  },
  {
   "cell_type": "code",
   "execution_count": 17,
   "metadata": {
    "collapsed": false
   },
   "outputs": [],
   "source": [
    "# pf_file1 = pd.read_csv('plate_filling.csv',index_col=0)\n",
    "# pf_file1.head()\n",
    "# ps_results = pd.DataFrame([[1.4,\"Giles\",13,13,17,14,15,14,15,15,15,4]],columns=['ts','name','dishes','media','antibiotic','antibio_vol','antibio_conc','arabinose_vol','arabinose_conc','chloram_vol','chloram_conc','spread_time'])\n",
    "# new_frame_3 = new_frame_2.append(ps_results,ignore_index=True)\n",
    "\n"
   ]
  },
  {
   "cell_type": "code",
   "execution_count": 18,
   "metadata": {
    "collapsed": false
   },
   "outputs": [],
   "source": [
    "# new_frame_3"
   ]
  },
  {
   "cell_type": "code",
   "execution_count": 19,
   "metadata": {
    "collapsed": true
   },
   "outputs": [],
   "source": [
    "# TASK: PLATE FILLING\n",
    "\n",
    "def plate_filling():\n",
    "    plates = inp(\"PLATES! Please enter the number of PLATES you used: \")\n",
    "    media = inp(\"MEDIA! Please enter the total ml of MEDIA you poured: \")\n",
    "    tips = inp(\"TIPS! Please enter the number of BOXES of TIPS you used - fractions are OK: \")\n",
    "    antibiotic = dict_select(antibiotics,\"Which ANTIBIOTIC did you use? Please select the NUMBER associated with your ANTIBIOTIC above: \",\"Bad input. Please enter the LIST NUMBER associated with the ANTIOBIOTIC you used\")\n",
    "    antibio_vol = inp(\"ANTIBIOTICS! Please enter the VOLUME of ANTIBIOTICS used: \")\n",
    "    antibio_conc = inp(\"ANTIBIOTICS! Please enter the CONCETNRATION of ANTIBIOTICS used: \")\n",
    "    fill_time = inp(\"TIME! How long in MINUTES did it take you to FILL PLATES: \")\n",
    "    ts = datetime.datetime.utcnow()\n",
    "    \n",
    "    pf_results = pd.DataFrame([[ts,name,plates,media,tips,antibiotic,antibio_vol,antibio_conc,fill_time]],columns=['ts','name','plates','media','tips','antibiotic','antibio_vol','antibio_conc','fill_time'])\n",
    "    pf_doc = pd.read_csv('plate_filling.csv', index_col=0)\n",
    "    new_results = pf_doc.append(pf_results,ignore_index=True)\n",
    "    new_results.to_csv('plate_filling.csv')\n",
    "\n",
    "    \n",
    "    return([ts,name,plates,media,tips,antibiotic,antibio_vol,antibio_conc,fill_time])"
   ]
  },
  {
   "cell_type": "code",
   "execution_count": 20,
   "metadata": {
    "collapsed": true
   },
   "outputs": [],
   "source": [
    "# TASK: COLONY PICKING\n",
    "\n",
    "def colony_picking():\n",
    "    plates = inp(\"PLATES! Please enter the number of PLATES W/ MEDIA you used: \")\n",
    "    lids = plates\n",
    "    stickers = plates\n",
    "    toothpicks = (plates*98*1.25)\n",
    "    dishes = inp(\"DISHES! How many UNIQUE DISHES did you pick colonies out of: \")\n",
    "    pick_time = inp(\"TIME! How long in MINUTES did it take you to PICK COLONIES: \")\n",
    "    ts = datetime.datetime.utcnow()\n",
    "    \n",
    "    cp_results = pd.DataFrame([[ts,name,plates,lids,stickers,toothpicks,dishes,pick_time]],columns=['ts','name','plates','lids','stickers','toothpicks','dishes','pick_time'])\n",
    "    cp_doc = pd.read_csv('colony_picking.csv', index_col=0)\n",
    "    new_results = cp_doc.append(cp_results,ignore_index=True)\n",
    "    new_results.to_csv('colony_picking.csv')\n",
    "    \n",
    "    return([ts,name,plates,lids,stickers,toothpicks,dishes,pick_time])"
   ]
  },
  {
   "cell_type": "code",
   "execution_count": 21,
   "metadata": {
    "collapsed": true
   },
   "outputs": [],
   "source": [
    "# TASK: PLATE SPREADING\n",
    "\n",
    "def plate_spreading():\n",
    "    dishes = inp(\"PETRI DISHES! Please enter the number of PETRI DISHES you used: \")\n",
    "    media = inp(\"AGAR! Please enter the total ml of AGAR MEDIA you poured: \")\n",
    "    antibiotic = dict_select(antibiotics,\"Which ANTIBIOTIC did you use? Please select the NUMBER associated with your ANTIBIOTIC above: \",\"Bad input. Please enter the LIST NUMBER associated with the ANTIOBIOTIC you used\")\n",
    "    antibio_vol = inp(\"ANTIBIOTICS! Please enter the VOLUME of ANTIBIOTICS used: \")\n",
    "    antibio_conc = inp(\"ANTIBIOTICS! Please enter the CONCETNRATION of ANTIBIOTICS used: \")\n",
    "    arabinose_vol = inp(\"ARABINOSE! Please enter the VOLUME of ARABINOSE used: \")\n",
    "    arabinose_conc = inp(\"ARABINOSE! Please enter the CONCETNRATION of ARABINOSE used: \")\n",
    "    chloram_vol = inp(\"CHLORAM! Please enter the VOLUME of CHLORAM used: \")\n",
    "    chloram_conc = inp(\"CHLORAM! Please enter the CONCETNRATION of CHLORAM used: \")\n",
    "    spread_time = inp(\"TIME! How long in MINUTES did it take you to PLATE SPREAD: \")\n",
    "    ts = datetime.datetime.utcnow()\n",
    "    \n",
    "    ps_results = pd.DataFrame([[ts,name,dishes,media,antibiotic,antibio_vol,antibio_conc,arabinose_vol,arabinose_conc,chloram_vol,chloram_conc,spread_time]],columns=['ts','name','dishes','media','antibiotic','antibio_vol','antibio_conc','arabinose_vol','arabinose_conc','chloram_vol','chloram_conc','spread_time'])\n",
    "    ps_doc = pd.read_csv('plate_spreading.csv', index_col=0)\n",
    "    new_results = ps_doc.append(ps_results,ignore_index=True)\n",
    "    new_results.to_csv('plate_spreading.csv')\n",
    "    \n",
    "    \n",
    "    \n",
    "    return([ts,name,dishes,media,antibiotic,antibio_vol,antibio_conc,arabinose_vol,arabinose_conc,chloram_vol,chloram_conc,spread_time])"
   ]
  },
  {
   "cell_type": "code",
   "execution_count": 22,
   "metadata": {
    "collapsed": true
   },
   "outputs": [],
   "source": [
    "# TASK: PLATE REPLICATION\n",
    "def plate_replication():\n",
    "    tips = inp(\"TIPS! Please enter the number of BOXES of TIPS you used - fractions are OK: \")\n",
    "    plates = inp(\"PLATES! Please enter the number of PLATES W/ MEDIA you used: \")\n",
    "    lids = plates \n",
    "    stickers = plates\n",
    "    plate_type = dict_select(plate_types, \"PLATE TYPES! Which TYPE of PLATE did you use? Please select the NUMBER associated with list above: \", \"Bad input. Please enter the LIST NUMBER associated with the PLATE TYPE you used\")\n",
    "    rep_time = inp(\"TIME! How long in MINUTES did it take you to REPLICATE PLATES: \")\n",
    "    ts = datetime.datetime.utcnow()\n",
    "    \n",
    "    pr_results = pd.DataFrame([[ts,name,tips,plates,lids,stickers,plate_type,rep_time]],columns=['ts','name','tips','plates','lids','stickers','plate_type','rep_time'])\n",
    "    pr_doc = pd.read_csv('plate_replication.csv', index_col=0)\n",
    "    new_results = pr_doc.append(pr_results,ignore_index=True)\n",
    "    new_results.to_csv('plate_replication.csv')\n",
    "    \n",
    "    return()"
   ]
  },
  {
   "cell_type": "code",
   "execution_count": 27,
   "metadata": {
    "collapsed": true
   },
   "outputs": [],
   "source": [
    "# TASK: SCREENING\n",
    "def screening():\n",
    "    target = dict_select(screening_targets,\"SCREENING TARGET! Which TYPE of CHEMICAL did you use? Please select the NUMBER associated with list above: \",\n",
    "                         \"Bad input. Please enter the LIST NUMBER associated with the CHEMICAL you used\")\n",
    "    target_vol = inp(\"TARGET CHEMICAL! Please enter the VOLUME of CHEMICAL used: \")\n",
    "    target_conc = inp(\"TARGET CHEMICAL! Please enter the CONCETNRATION of CHEMICAL used: \")\n",
    "    plates = inp(\"PLATES! Please enter the number of PLATES you screened: \")\n",
    "    setup_time = inp(\"How much TIME in MINUTES did you spend on screen SETUP: \")\n",
    "    read_time = inp(\"How much TIME in MINUTES did you spend on screen READ: \")\n",
    "    ts = datetime.datetime.utcnow()\n",
    "    \n",
    "    sc_results = pd.DataFrame([[ts,name,target,target_vol,target_conc,plates,setup_time,read_time]],columns=['ts','name','target','target_vol','target_conc','plates','setup_time','read_time'])\n",
    "    sc_doc = pd.read_csv('screening.csv', index_col=0)\n",
    "    new_results = sc_doc.append(sc_results,ignore_index=True)\n",
    "    new_results.to_csv('screening.csv')\n",
    "    \n",
    "    return([ts,name,target,target_vol,target_conc,plates,setup_time,read_time])"
   ]
  },
  {
   "cell_type": "code",
   "execution_count": 24,
   "metadata": {
    "collapsed": true
   },
   "outputs": [],
   "source": [
    "# FUNCTION DICTIONARY\n",
    "\n",
    "functions = OrderedDict([('1', (\"Plate Filling\", plate_filling)), ('2', (\"Colony Picking\", colony_picking)), \n",
    "                         ('3',(\"Spread Plating\", plate_spreading)), ('4', (\"Plate Replication\",plate_replication)), ('5',(\"Screening\", screening))])"
   ]
  },
  {
   "cell_type": "code",
   "execution_count": 25,
   "metadata": {
    "collapsed": true
   },
   "outputs": [],
   "source": [
    "# Selecting items from a dictionary of functions\n",
    "\n",
    "def dict_select_func(dict,question,scold):\n",
    "    for vals in dict:\n",
    "        print(vals,dict[vals][0])\n",
    "    dummy = False \n",
    "    while dummy == False:\n",
    "        dict_key = inp_str(question)\n",
    "        try:\n",
    "            val = dict[dict_key][1]\n",
    "            dummy = True\n",
    "        except:\n",
    "            print(scold)\n",
    "            dummy = False\n",
    "    print('/n')\n",
    "    return(val())"
   ]
  },
  {
   "cell_type": "code",
   "execution_count": 26,
   "metadata": {
    "collapsed": false
   },
   "outputs": [
    {
     "name": "stdout",
     "output_type": "stream",
     "text": [
      "1 Aneesha\n",
      "2 Cameron\n",
      "3 Giles\n",
      "4 Nina\n",
      "5 Will\n",
      "Hello! Who are you? Select the NUMBER associated with your name on the list above!3\n",
      "1 Plate Filling\n",
      "2 Colony Picking\n",
      "3 Spread Plating\n",
      "4 Plate Replication\n",
      "5 Screening\n",
      "What TASK would you like to enter information for? Please selest the NUMBER assosciated with the list above: 1\n",
      "PLATES! Please enter the number of PLATES you used: 2\n",
      "MEDIA! Please enter the total ml of MEDIA you poured: 2\n",
      "TIPS! Please enter the number of BOXES of TIPS you used - fractions are OK: 3\n",
      "1 Spectinomycin\n",
      "2 Chloramphenicol\n",
      "3 Kanamycin\n",
      "4 Tetracycline\n",
      "Which ANTIBIOTIC did you use? Please select the NUMBER associated with your ANTIBIOTIC above: 3\n",
      "ANTIBIOTICS! Please enter the VOLUME of ANTIBIOTICS used: 3\n",
      "ANTIBIOTICS! Please enter the CONCETNRATION of ANTIBIOTICS used: 3\n",
      "TIME! How long in MINUTES did it take you to FILL PLATES: 13\n",
      "Are there more tasks you would like to enter data for? Enter 1 for YES - or - 2 for NO: 2\n"
     ]
    }
   ],
   "source": [
    "# Main Function - \n",
    "dummy = False\n",
    "\n",
    "while dummy == False:\n",
    "    name = dict_select(staff, \"Hello! Who are you? Select the NUMBER associated with your name on the list above!\",\n",
    "                       \"Bad input, Please enter the LIST NUMBER associated with your NAME: \")\n",
    "    more = 0\n",
    "    dict_select_func(functions, \n",
    "                     \"What TASK would you like to enter information for? Please selest the NUMBER assosciated with the list above: \", \n",
    "                     \"Bad input, Please enter the LIST NUMBER associated with the TASK you performed: \")\n",
    "    more = inp(\"Are there more tasks you would like to enter data for? Enter 1 for YES - or - 2 for NO: \")\n",
    "    if more == 1:\n",
    "        dummy = False\n",
    "        print('/n')\n",
    "    elif more == 2:\n",
    "        dummy = True\n",
    "        print('/n')\n",
    "    else:\n",
    "        dummy = False\n",
    "        print('/n')"
   ]
  }
 ],
 "metadata": {
  "kernelspec": {
   "display_name": "Python 3",
   "language": "python",
   "name": "python3"
  },
  "language_info": {
   "codemirror_mode": {
    "name": "ipython",
    "version": 3
   },
   "file_extension": ".py",
   "mimetype": "text/x-python",
   "name": "python",
   "nbconvert_exporter": "python",
   "pygments_lexer": "ipython3",
   "version": "3.5.1"
  }
 },
 "nbformat": 4,
 "nbformat_minor": 0
}
